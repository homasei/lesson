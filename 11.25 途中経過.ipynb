{
 "cells": [
  {
   "cell_type": "code",
   "execution_count": 1,
   "id": "ac1b284e",
   "metadata": {},
   "outputs": [
    {
     "name": "stdout",
     "output_type": "stream",
     "text": [
      "現在の在庫数:\n",
      "トマト      60\n",
      "キャベツ     52\n",
      "レタス      61\n",
      "白菜       59\n",
      "ほうれん草    52\n",
      "大根       33\n",
      "ニンジン     18\n",
      "dtype: int64\n",
      "------------------\n",
      "しきい値を下回る野菜:\n",
      "['ニンジン']\n"
     ]
    }
   ],
   "source": [
    "import pandas as pd\n",
    "import glob\n",
    "import os\n",
    "\n",
    "# オーダー数を把握する関数\n",
    "def grasp_order(folder_path):\n",
    "    pattern = os.path.join(folder_path, '*.xlsx')\n",
    "    excel_files = glob.glob(pattern)\n",
    "    order = pd.concat([pd.read_excel(f) for f in excel_files], axis=0)\n",
    "    order = order.fillna(0)\n",
    "    for col in order.columns:\n",
    "        order[col] = order[col].astype('int64')\n",
    "    return order.sum()\n",
    "    \n",
    "# 在庫表の最終行の情報を抽出\n",
    "def inventory_info(folder_path):\n",
    "    pattern = os.path.join(folder_path,'inventory.xlsx') \n",
    "    inventory = pd.read_excel(pattern, usecols = \"C:I\")\n",
    "    for col in inventory.columns:\n",
    "        inventory[col] = inventory[col].astype('int64')\n",
    "    latest_inventory = inventory.iloc[-1]\n",
    "    return latest_inventory\n",
    "\n",
    "# オーダー数と在庫情報を取得\n",
    "order = grasp_order(r'C:\\Users\\homas\\Desktop\\python\\samurai_提出済課題\\vegetable_order\\samples\\order_new')\n",
    "inv = inventory_info(r'C:\\Users\\homas\\Desktop\\python\\samurai_提出済課題\\vegetable_order\\samples')\n",
    "\n",
    "#差し引き後の現在在庫数\n",
    "ttl = inv - order\n",
    "print(\"現在の在庫数:\")\n",
    "print(ttl)\n",
    "print(\"------------------\")\n",
    "\n",
    "# pickup.xlsxからしきい値を確認\n",
    "def low_stock_items(folder_path, ttl):\n",
    "    pattern = os.path.join(folder_path,'pickup.xlsx')\n",
    "    df = pd.read_excel(pattern)\n",
    "    df = df.iloc[0, 1:8]\n",
    "    df = df.astype(\"int64\")\n",
    "    # しきい値を下回った野菜の名前を抽出\n",
    "    low_stock_items = df.loc[df > ttl].index.tolist()\n",
    "    return low_stock_items\n",
    "\n",
    "\n",
    "#しきい値を下回る野菜の抽出\n",
    "low_stock_vegetables = low_stock_items(r'C:\\Users\\homas\\Desktop\\python\\samurai_提出済課題\\vegetable_order\\samples', ttl)\n",
    "print(\"しきい値を下回る野菜:\")\n",
    "print(low_stock_vegetables)"
   ]
  },
  {
   "cell_type": "code",
   "execution_count": 2,
   "id": "26afa04c",
   "metadata": {},
   "outputs": [
    {
     "name": "stdout",
     "output_type": "stream",
     "text": [
      "しきい値を下回る野菜:\n",
      "['ニンジン']\n",
      "発注数量:\n",
      "0\n"
     ]
    }
   ],
   "source": [
    "# pickup.xlsxからしきい値を確認\n",
    "def low_stock_items(folder_path, ttl):\n",
    "    pattern = os.path.join(folder_path,'pickup.xlsx')\n",
    "    df = pd.read_excel(pattern)\n",
    "    df = df.iloc[0, 1:8]\n",
    "    df = df.astype(\"int64\")\n",
    "    # しきい値を下回った野菜の名前を抽出\n",
    "    low_stock_items = df.loc[df > ttl].index.tolist()\n",
    "    # しきい値の２倍の数値を代入\n",
    "    amount = 0\n",
    "    for vegetable in df:\n",
    "        if vegetable == low_stock_items[0]:\n",
    "            amount = df.loc[vegetable, :] * 2\n",
    "    \n",
    "    return low_stock_items, amount\n",
    "\n",
    "\n",
    "#しきい値を下回る野菜の抽出\n",
    "low_stock_vegetables, amount = low_stock_items(r'C:\\Users\\homas\\Desktop\\python\\samurai_提出済課題\\vegetable_order\\samples', ttl)\n",
    "print(\"しきい値を下回る野菜:\")\n",
    "print(low_stock_vegetables)\n",
    "print(\"発注数量:\")\n",
    "print(amount)\n"
   ]
  }
 ],
 "metadata": {
  "kernelspec": {
   "display_name": "Python 3 (ipykernel)",
   "language": "python",
   "name": "python3"
  },
  "language_info": {
   "codemirror_mode": {
    "name": "ipython",
    "version": 3
   },
   "file_extension": ".py",
   "mimetype": "text/x-python",
   "name": "python",
   "nbconvert_exporter": "python",
   "pygments_lexer": "ipython3",
   "version": "3.11.3"
  }
 },
 "nbformat": 4,
 "nbformat_minor": 5
}
